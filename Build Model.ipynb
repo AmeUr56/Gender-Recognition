{
 "cells": [
  {
   "cell_type": "markdown",
   "metadata": {},
   "source": [
    "# Import Libraries"
   ]
  },
  {
   "cell_type": "code",
   "execution_count": 49,
   "metadata": {},
   "outputs": [],
   "source": [
    "import numpy as np\n",
    "import pandas as pd\n",
    "import matplotlib.pyplot as plt\n",
    "import tensorflow as tf\n",
    "from PIL import Image\n",
    "from glob import glob\n",
    "from pathlib import Path\n",
    "import time"
   ]
  },
  {
   "cell_type": "markdown",
   "metadata": {},
   "source": [
    "# Load & Preprocess Data"
   ]
  },
  {
   "cell_type": "code",
   "execution_count": 28,
   "metadata": {},
   "outputs": [],
   "source": [
    "men_paths = glob(r\"Data\\man\\*\")\n",
    "women_paths = glob(r\"Data\\woman\\*\")"
   ]
  },
  {
   "cell_type": "code",
   "execution_count": 29,
   "metadata": {},
   "outputs": [],
   "source": [
    "men_imgs = np.array([tf.cast(np.array(Image.open(path).resize((260,260))),tf.float32) for path in men_paths])\n",
    "women_imgs = np.array([tf.cast(np.array(Image.open(path).resize((260,260))),tf.float32) for path in women_paths])"
   ]
  },
  {
   "cell_type": "code",
   "execution_count": 30,
   "metadata": {},
   "outputs": [
    {
     "data": {
      "text/plain": [
       "(100, 260, 260, 3)"
      ]
     },
     "execution_count": 30,
     "metadata": {},
     "output_type": "execute_result"
    }
   ],
   "source": [
    "men_imgs.shape"
   ]
  },
  {
   "cell_type": "code",
   "execution_count": 31,
   "metadata": {},
   "outputs": [],
   "source": [
    "imgs = np.concatenate([women_imgs,men_imgs])\n",
    "labels = np.concatenate([np.zeros((len(women_imgs),1)),np.ones((len(men_imgs),1))])"
   ]
  },
  {
   "cell_type": "code",
   "execution_count": 32,
   "metadata": {},
   "outputs": [
    {
     "data": {
      "text/plain": [
       "(200, 260, 260, 3)"
      ]
     },
     "execution_count": 32,
     "metadata": {},
     "output_type": "execute_result"
    }
   ],
   "source": [
    "imgs.shape"
   ]
  },
  {
   "cell_type": "code",
   "execution_count": 33,
   "metadata": {},
   "outputs": [],
   "source": [
    "BATCH_SIZE = 15\n",
    "dataset = tf.data.Dataset.from_tensor_slices((imgs,labels)).shuffle(100).shuffle(150)\n",
    "train_set = dataset.take(150).shuffle(50).batch(BATCH_SIZE)\n",
    "valid_set = dataset.skip(150).take(20).batch(BATCH_SIZE)\n",
    "test_set = dataset.skip(170).batch(BATCH_SIZE)"
   ]
  },
  {
   "cell_type": "code",
   "execution_count": 34,
   "metadata": {},
   "outputs": [
    {
     "data": {
      "text/plain": [
       "<tf.Tensor: shape=(), dtype=int64, numpy=10>"
      ]
     },
     "execution_count": 34,
     "metadata": {},
     "output_type": "execute_result"
    }
   ],
   "source": [
    "tf.data.experimental.cardinality(train_set)"
   ]
  },
  {
   "cell_type": "markdown",
   "metadata": {},
   "source": [
    "# Build & Train Model"
   ]
  },
  {
   "cell_type": "code",
   "execution_count": 35,
   "metadata": {},
   "outputs": [],
   "source": [
    "from tensorflow.keras.models import Model\n",
    "from tensorflow.keras.applications import EfficientNetB2\n",
    "from tensorflow.keras.layers import Dense,GlobalAvgPool2D,Dropout\n",
    "from tensorflow.keras.activations import sigmoid\n",
    "from tensorflow.keras.optimizers import Nadam\n",
    "from tensorflow.keras.callbacks import TensorBoard,EarlyStopping"
   ]
  },
  {
   "cell_type": "code",
   "execution_count": 36,
   "metadata": {},
   "outputs": [],
   "source": [
    "base_model = EfficientNetB2()\n",
    "base_model.load_weights(r\"EfficientNetB2_Weights.h5\")"
   ]
  },
  {
   "cell_type": "code",
   "execution_count": 37,
   "metadata": {},
   "outputs": [],
   "source": [
    "base_model.trainable = False"
   ]
  },
  {
   "cell_type": "code",
   "execution_count": 38,
   "metadata": {},
   "outputs": [],
   "source": [
    "avg = GlobalAvgPool2D()(base_model.layers[-4].output)\n",
    "dropout = Dropout(0.2)(avg)\n",
    "out = Dense(1,sigmoid)(dropout)\n",
    "model = Model(inputs = [base_model.input],outputs = [out])"
   ]
  },
  {
   "cell_type": "code",
   "execution_count": 39,
   "metadata": {},
   "outputs": [],
   "source": [
    "model.compile(loss = 'binary_crossentropy',\n",
    "              optimizer= Nadam(),\n",
    "              metrics = ['accuracy'])"
   ]
  },
  {
   "cell_type": "code",
   "execution_count": 45,
   "metadata": {},
   "outputs": [],
   "source": [
    "# Tensorboard Initialization to track training if needed(I am not using it right now)\n",
    "def get_run_logdir(root_logdir=\"my_logs\"):\n",
    " return Path(root_logdir) / time.strftime(\"run_%Y_%m_%d_%H_%M_%S\")\n",
    "tensorboard_cb = TensorBoard(get_run_logdir(),\n",
    " profile_batch=(100, 200),histogram_freq=1)"
   ]
  },
  {
   "cell_type": "code",
   "execution_count": 40,
   "metadata": {},
   "outputs": [],
   "source": [
    "early_stopping_cb = EarlyStopping(patience=2,restore_best_weights=True)"
   ]
  },
  {
   "cell_type": "code",
   "execution_count": 41,
   "metadata": {},
   "outputs": [
    {
     "name": "stdout",
     "output_type": "stream",
     "text": [
      "Epoch 1/10\n",
      "\u001b[1m10/10\u001b[0m \u001b[32m━━━━━━━━━━━━━━━━━━━━\u001b[0m\u001b[37m\u001b[0m \u001b[1m60s\u001b[0m 3s/step - accuracy: 0.6437 - loss: 0.6409 - val_accuracy: 0.8500 - val_loss: 0.5544\n",
      "Epoch 2/10\n",
      "\u001b[1m10/10\u001b[0m \u001b[32m━━━━━━━━━━━━━━━━━━━━\u001b[0m\u001b[37m\u001b[0m \u001b[1m16s\u001b[0m 2s/step - accuracy: 0.8041 - loss: 0.5049 - val_accuracy: 1.0000 - val_loss: 0.3804\n",
      "Epoch 3/10\n",
      "\u001b[1m10/10\u001b[0m \u001b[32m━━━━━━━━━━━━━━━━━━━━\u001b[0m\u001b[37m\u001b[0m \u001b[1m16s\u001b[0m 2s/step - accuracy: 0.8884 - loss: 0.4071 - val_accuracy: 0.9500 - val_loss: 0.3484\n",
      "Epoch 4/10\n",
      "\u001b[1m10/10\u001b[0m \u001b[32m━━━━━━━━━━━━━━━━━━━━\u001b[0m\u001b[37m\u001b[0m \u001b[1m16s\u001b[0m 2s/step - accuracy: 0.9245 - loss: 0.3624 - val_accuracy: 0.9000 - val_loss: 0.3240\n",
      "Epoch 5/10\n",
      "\u001b[1m10/10\u001b[0m \u001b[32m━━━━━━━━━━━━━━━━━━━━\u001b[0m\u001b[37m\u001b[0m \u001b[1m16s\u001b[0m 2s/step - accuracy: 0.9585 - loss: 0.2623 - val_accuracy: 0.9000 - val_loss: 0.2620\n",
      "Epoch 6/10\n",
      "\u001b[1m10/10\u001b[0m \u001b[32m━━━━━━━━━━━━━━━━━━━━\u001b[0m\u001b[37m\u001b[0m \u001b[1m16s\u001b[0m 2s/step - accuracy: 0.9183 - loss: 0.2508 - val_accuracy: 0.9500 - val_loss: 0.2360\n",
      "Epoch 7/10\n",
      "\u001b[1m10/10\u001b[0m \u001b[32m━━━━━━━━━━━━━━━━━━━━\u001b[0m\u001b[37m\u001b[0m \u001b[1m15s\u001b[0m 2s/step - accuracy: 0.9094 - loss: 0.2414 - val_accuracy: 0.9500 - val_loss: 0.2579\n",
      "Epoch 8/10\n",
      "\u001b[1m10/10\u001b[0m \u001b[32m━━━━━━━━━━━━━━━━━━━━\u001b[0m\u001b[37m\u001b[0m \u001b[1m15s\u001b[0m 2s/step - accuracy: 0.9406 - loss: 0.1827 - val_accuracy: 0.9500 - val_loss: 0.2012\n",
      "Epoch 9/10\n",
      "\u001b[1m10/10\u001b[0m \u001b[32m━━━━━━━━━━━━━━━━━━━━\u001b[0m\u001b[37m\u001b[0m \u001b[1m15s\u001b[0m 2s/step - accuracy: 0.9384 - loss: 0.1985 - val_accuracy: 1.0000 - val_loss: 0.1130\n",
      "Epoch 10/10\n",
      "\u001b[1m10/10\u001b[0m \u001b[32m━━━━━━━━━━━━━━━━━━━━\u001b[0m\u001b[37m\u001b[0m \u001b[1m16s\u001b[0m 2s/step - accuracy: 0.9287 - loss: 0.2082 - val_accuracy: 1.0000 - val_loss: 0.0872\n"
     ]
    }
   ],
   "source": [
    "history = model.fit(train_set,epochs = 10,validation_data=valid_set,callbacks = [early_stopping_cb])"
   ]
  },
  {
   "cell_type": "code",
   "execution_count": 42,
   "metadata": {},
   "outputs": [
    {
     "data": {
      "text/plain": [
       "<Axes: >"
      ]
     },
     "execution_count": 42,
     "metadata": {},
     "output_type": "execute_result"
    },
    {
     "data": {
      "image/png": "[encoded data removed]",
      "text/plain": [
       "<Figure size 640x480 with 1 Axes>"
      ]
     },
     "metadata": {},
     "output_type": "display_data"
    }
   ],
   "source": [
    "pd.DataFrame(history.history).plot()"
   ]
  },
  {
   "cell_type": "code",
   "execution_count": 43,
   "metadata": {},
   "outputs": [
    {
     "name": "stdout",
     "output_type": "stream",
     "text": [
      "\u001b[1m2/2\u001b[0m \u001b[32m━━━━━━━━━━━━━━━━━━━━\u001b[0m\u001b[37m\u001b[0m \u001b[1m4s\u001b[0m 2s/step - accuracy: 0.9111 - loss: 0.1900\n"
     ]
    },
    {
     "data": {
      "text/plain": [
       "[0.17305132746696472, 0.9333333373069763]"
      ]
     },
     "execution_count": 43,
     "metadata": {},
     "output_type": "execute_result"
    }
   ],
   "source": [
    "model.evaluate(test_set)"
   ]
  },
  {
   "cell_type": "code",
   "execution_count": 51,
   "metadata": {},
   "outputs": [
    {
     "name": "stdout",
     "output_type": "stream",
     "text": [
      "INFO:tensorflow:Assets written to: C:\\Users\\User\\AppData\\Local\\Temp\\tmpgz3l0ufx\\assets\n"
     ]
    },
    {
     "name": "stderr",
     "output_type": "stream",
     "text": [
      "INFO:tensorflow:Assets written to: C:\\Users\\User\\AppData\\Local\\Temp\\tmpgz3l0ufx\\assets\n"
     ]
    },
    {
     "name": "stdout",
     "output_type": "stream",
     "text": [
      "Saved artifact at 'C:\\Users\\User\\AppData\\Local\\Temp\\tmpgz3l0ufx'. The following endpoints are available:\n",
      "\n",
      "* Endpoint 'serve'\n",
      "  args_0 (POSITIONAL_ONLY): TensorSpec(shape=(None, 260, 260, 3), dtype=tf.float32, name='input_layer_3')\n",
      "Output Type:\n",
      "  TensorSpec(shape=(None, 1), dtype=tf.float32, name=None)\n",
      "Captures:\n",
      "  2699894309136: TensorSpec(shape=(1, 1, 1, 3), dtype=tf.float32, name=None)\n",
      "  2699894308944: TensorSpec(shape=(1, 1, 1, 3), dtype=tf.float32, name=None)\n",
      "  2697415134288: TensorSpec(shape=(), dtype=tf.resource, name=None)\n",
      "  2697415133712: TensorSpec(shape=(), dtype=tf.resource, name=None)\n",
      "  2697415132560: TensorSpec(shape=(), dtype=tf.resource, name=None)\n",
      "  2697415133520: TensorSpec(shape=(), dtype=tf.resource, name=None)\n",
      "  2697415133904: TensorSpec(shape=(), dtype=tf.resource, name=None)\n",
      "  2697415136208: TensorSpec(shape=(), dtype=tf.resource, name=None)\n",
      "  2697415135632: TensorSpec(shape=(), dtype=tf.resource, name=None)\n",
      "  2697415134864: TensorSpec(shape=(), dtype=tf.resource, name=None)\n",
      "  2697415133328: TensorSpec(shape=(), dtype=tf.resource, name=None)\n",
      "  2697415135824: TensorSpec(shape=(), dtype=tf.resource, name=None)\n",
      "  2697415138128: TensorSpec(shape=(), dtype=tf.resource, name=None)\n",
      "  2697415135248: TensorSpec(shape=(), dtype=tf.resource, name=None)\n",
      "  2697415138896: TensorSpec(shape=(), dtype=tf.resource, name=None)\n",
      "  2697415137744: TensorSpec(shape=(), dtype=tf.resource, name=None)\n",
      "  2697415139664: TensorSpec(shape=(), dtype=tf.resource, name=None)\n",
      "  2697415138704: TensorSpec(shape=(), dtype=tf.resource, name=None)\n",
      "  2697415136784: TensorSpec(shape=(), dtype=tf.resource, name=None)\n",
      "  2697415138512: TensorSpec(shape=(), dtype=tf.resource, name=None)\n",
      "  2697415139280: TensorSpec(shape=(), dtype=tf.resource, name=None)\n",
      "  2697415141584: TensorSpec(shape=(), dtype=tf.resource, name=None)\n",
      "  2697415141008: TensorSpec(shape=(), dtype=tf.resource, name=None)\n",
      "  2697415140240: TensorSpec(shape=(), dtype=tf.resource, name=None)\n",
      "  2697415137168: TensorSpec(shape=(), dtype=tf.resource, name=None)\n",
      "  2697415141200: TensorSpec(shape=(), dtype=tf.resource, name=None)\n",
      "  2697415143504: TensorSpec(shape=(), dtype=tf.resource, name=None)\n",
      "  2697415140624: TensorSpec(shape=(), dtype=tf.resource, name=None)\n",
      "  2697415144272: TensorSpec(shape=(), dtype=tf.resource, name=None)\n",
      "  2697415143120: TensorSpec(shape=(), dtype=tf.resource, name=None)\n",
      "  2697415145040: TensorSpec(shape=(), dtype=tf.resource, name=None)\n",
      "  2697415144080: TensorSpec(shape=(), dtype=tf.resource, name=None)\n",
      "  2697415142160: TensorSpec(shape=(), dtype=tf.resource, name=None)\n",
      "  2697415143888: TensorSpec(shape=(), dtype=tf.resource, name=None)\n",
      "  2697415144656: TensorSpec(shape=(), dtype=tf.resource, name=None)\n",
      "  2697415147344: TensorSpec(shape=(), dtype=tf.resource, name=None)\n",
      "  2697415146576: TensorSpec(shape=(), dtype=tf.resource, name=None)\n",
      "  2699895046416: TensorSpec(shape=(), dtype=tf.resource, name=None)\n",
      "  2697415144848: TensorSpec(shape=(), dtype=tf.resource, name=None)\n",
      "  2697415146960: TensorSpec(shape=(), dtype=tf.resource, name=None)\n",
      "  2699895047952: TensorSpec(shape=(), dtype=tf.resource, name=None)\n",
      "  2699895047376: TensorSpec(shape=(), dtype=tf.resource, name=None)\n",
      "  2699895046800: TensorSpec(shape=(), dtype=tf.resource, name=None)\n",
      "  2699895046608: TensorSpec(shape=(), dtype=tf.resource, name=None)\n",
      "  2699895047568: TensorSpec(shape=(), dtype=tf.resource, name=None)\n",
      "  2699895049872: TensorSpec(shape=(), dtype=tf.resource, name=None)\n",
      "  2699895046992: TensorSpec(shape=(), dtype=tf.resource, name=None)\n",
      "  2699895050640: TensorSpec(shape=(), dtype=tf.resource, name=None)\n",
      "  2699895049488: TensorSpec(shape=(), dtype=tf.resource, name=None)\n",
      "  2699895051408: TensorSpec(shape=(), dtype=tf.resource, name=None)\n",
      "  2699895050448: TensorSpec(shape=(), dtype=tf.resource, name=None)\n",
      "  2699895048528: TensorSpec(shape=(), dtype=tf.resource, name=None)\n",
      "  2699895050256: TensorSpec(shape=(), dtype=tf.resource, name=None)\n",
      "  2699895051024: TensorSpec(shape=(), dtype=tf.resource, name=None)\n",
      "  2699895053328: TensorSpec(shape=(), dtype=tf.resource, name=None)\n",
      "  2699895052752: TensorSpec(shape=(), dtype=tf.resource, name=None)\n",
      "  2699895051984: TensorSpec(shape=(), dtype=tf.resource, name=None)\n",
      "  2699895048912: TensorSpec(shape=(), dtype=tf.resource, name=None)\n",
      "  2699895052944: TensorSpec(shape=(), dtype=tf.resource, name=None)\n",
      "  2699895055248: TensorSpec(shape=(), dtype=tf.resource, name=None)\n",
      "  2699895054672: TensorSpec(shape=(), dtype=tf.resource, name=None)\n",
      "  2699895053904: TensorSpec(shape=(), dtype=tf.resource, name=None)\n",
      "  2699895052368: TensorSpec(shape=(), dtype=tf.resource, name=None)\n",
      "  2699895054864: TensorSpec(shape=(), dtype=tf.resource, name=None)\n",
      "  2699895057168: TensorSpec(shape=(), dtype=tf.resource, name=None)\n",
      "  2699895054288: TensorSpec(shape=(), dtype=tf.resource, name=None)\n",
      "  2699895057936: TensorSpec(shape=(), dtype=tf.resource, name=None)\n",
      "  2699895056784: TensorSpec(shape=(), dtype=tf.resource, name=None)\n",
      "  2699895058704: TensorSpec(shape=(), dtype=tf.resource, name=None)\n",
      "  2699895057744: TensorSpec(shape=(), dtype=tf.resource, name=None)\n",
      "  2699895055824: TensorSpec(shape=(), dtype=tf.resource, name=None)\n",
      "  2699895057552: TensorSpec(shape=(), dtype=tf.resource, name=None)\n",
      "  2699895058320: TensorSpec(shape=(), dtype=tf.resource, name=None)\n",
      "  2699895061008: TensorSpec(shape=(), dtype=tf.resource, name=None)\n",
      "  2699895060432: TensorSpec(shape=(), dtype=tf.resource, name=None)\n",
      "  2699895060048: TensorSpec(shape=(), dtype=tf.resource, name=None)\n",
      "  2699895060240: TensorSpec(shape=(), dtype=tf.resource, name=None)\n",
      "  2699895060624: TensorSpec(shape=(), dtype=tf.resource, name=None)\n",
      "  2699895062352: TensorSpec(shape=(), dtype=tf.resource, name=None)\n",
      "  2699895455824: TensorSpec(shape=(), dtype=tf.resource, name=None)\n",
      "  2699895456208: TensorSpec(shape=(), dtype=tf.resource, name=None)\n",
      "  2699895058512: TensorSpec(shape=(), dtype=tf.resource, name=None)\n",
      "  2699895456400: TensorSpec(shape=(), dtype=tf.resource, name=None)\n",
      "  2699895458128: TensorSpec(shape=(), dtype=tf.resource, name=None)\n",
      "  2699895456016: TensorSpec(shape=(), dtype=tf.resource, name=None)\n",
      "  2699895458896: TensorSpec(shape=(), dtype=tf.resource, name=None)\n",
      "  2699895457744: TensorSpec(shape=(), dtype=tf.resource, name=None)\n",
      "  2699895459664: TensorSpec(shape=(), dtype=tf.resource, name=None)\n",
      "  2699895458704: TensorSpec(shape=(), dtype=tf.resource, name=None)\n",
      "  2699895456784: TensorSpec(shape=(), dtype=tf.resource, name=None)\n",
      "  2699895458512: TensorSpec(shape=(), dtype=tf.resource, name=None)\n",
      "  2699895459280: TensorSpec(shape=(), dtype=tf.resource, name=None)\n",
      "  2699895461968: TensorSpec(shape=(), dtype=tf.resource, name=None)\n",
      "  2699895461392: TensorSpec(shape=(), dtype=tf.resource, name=None)\n",
      "  2699895461008: TensorSpec(shape=(), dtype=tf.resource, name=None)\n",
      "  2699895461200: TensorSpec(shape=(), dtype=tf.resource, name=None)\n",
      "  2699895461584: TensorSpec(shape=(), dtype=tf.resource, name=None)\n",
      "  2699895463888: TensorSpec(shape=(), dtype=tf.resource, name=None)\n",
      "  2699895463312: TensorSpec(shape=(), dtype=tf.resource, name=None)\n",
      "  2699895462544: TensorSpec(shape=(), dtype=tf.resource, name=None)\n",
      "  2699895459472: TensorSpec(shape=(), dtype=tf.resource, name=None)\n",
      "  2699895463504: TensorSpec(shape=(), dtype=tf.resource, name=None)\n",
      "  2699895465808: TensorSpec(shape=(), dtype=tf.resource, name=None)\n",
      "  2699895462928: TensorSpec(shape=(), dtype=tf.resource, name=None)\n",
      "  2699895466576: TensorSpec(shape=(), dtype=tf.resource, name=None)\n",
      "  2699895465424: TensorSpec(shape=(), dtype=tf.resource, name=None)\n",
      "  2699895467344: TensorSpec(shape=(), dtype=tf.resource, name=None)\n",
      "  2699895466384: TensorSpec(shape=(), dtype=tf.resource, name=None)\n",
      "  2699895464464: TensorSpec(shape=(), dtype=tf.resource, name=None)\n",
      "  2699895466192: TensorSpec(shape=(), dtype=tf.resource, name=None)\n",
      "  2699895466960: TensorSpec(shape=(), dtype=tf.resource, name=None)\n",
      "  2699895469264: TensorSpec(shape=(), dtype=tf.resource, name=None)\n",
      "  2699895468688: TensorSpec(shape=(), dtype=tf.resource, name=None)\n",
      "  2699895467920: TensorSpec(shape=(), dtype=tf.resource, name=None)\n",
      "  2699895464848: TensorSpec(shape=(), dtype=tf.resource, name=None)\n",
      "  2699895468880: TensorSpec(shape=(), dtype=tf.resource, name=None)\n",
      "  2699895471184: TensorSpec(shape=(), dtype=tf.resource, name=None)\n",
      "  2699895470608: TensorSpec(shape=(), dtype=tf.resource, name=None)\n",
      "  2699895470992: TensorSpec(shape=(), dtype=tf.resource, name=None)\n",
      "  2699895468304: TensorSpec(shape=(), dtype=tf.resource, name=None)\n",
      "  2699895470800: TensorSpec(shape=(), dtype=tf.resource, name=None)\n",
      "  2699895470224: TensorSpec(shape=(), dtype=tf.resource, name=None)\n",
      "  2699895964304: TensorSpec(shape=(), dtype=tf.resource, name=None)\n",
      "  2699895965456: TensorSpec(shape=(), dtype=tf.resource, name=None)\n",
      "  2699895963728: TensorSpec(shape=(), dtype=tf.resource, name=None)\n",
      "  2699895966224: TensorSpec(shape=(), dtype=tf.resource, name=None)\n",
      "  2699895965264: TensorSpec(shape=(), dtype=tf.resource, name=None)\n",
      "  2699895964880: TensorSpec(shape=(), dtype=tf.resource, name=None)\n",
      "  2699895965072: TensorSpec(shape=(), dtype=tf.resource, name=None)\n",
      "  2699895965840: TensorSpec(shape=(), dtype=tf.resource, name=None)\n",
      "  2699895968528: TensorSpec(shape=(), dtype=tf.resource, name=None)\n",
      "  2699895967952: TensorSpec(shape=(), dtype=tf.resource, name=None)\n",
      "  2699895967568: TensorSpec(shape=(), dtype=tf.resource, name=None)\n",
      "  2699895967760: TensorSpec(shape=(), dtype=tf.resource, name=None)\n",
      "  2699895968144: TensorSpec(shape=(), dtype=tf.resource, name=None)\n",
      "  2699895970448: TensorSpec(shape=(), dtype=tf.resource, name=None)\n",
      "  2699895969872: TensorSpec(shape=(), dtype=tf.resource, name=None)\n",
      "  2699895969104: TensorSpec(shape=(), dtype=tf.resource, name=None)\n",
      "  2699895966032: TensorSpec(shape=(), dtype=tf.resource, name=None)\n",
      "  2699895970064: TensorSpec(shape=(), dtype=tf.resource, name=None)\n",
      "  2699895972368: TensorSpec(shape=(), dtype=tf.resource, name=None)\n",
      "  2699895969488: TensorSpec(shape=(), dtype=tf.resource, name=None)\n",
      "  2699895973136: TensorSpec(shape=(), dtype=tf.resource, name=None)\n",
      "  2699895971984: TensorSpec(shape=(), dtype=tf.resource, name=None)\n",
      "  2699895973904: TensorSpec(shape=(), dtype=tf.resource, name=None)\n",
      "  2699895972944: TensorSpec(shape=(), dtype=tf.resource, name=None)\n",
      "  2699895971024: TensorSpec(shape=(), dtype=tf.resource, name=None)\n",
      "  2699895972752: TensorSpec(shape=(), dtype=tf.resource, name=None)\n",
      "  2699895973520: TensorSpec(shape=(), dtype=tf.resource, name=None)\n",
      "  2699895976208: TensorSpec(shape=(), dtype=tf.resource, name=None)\n",
      "  2699895975632: TensorSpec(shape=(), dtype=tf.resource, name=None)\n",
      "  2699895975248: TensorSpec(shape=(), dtype=tf.resource, name=None)\n",
      "  2699895975440: TensorSpec(shape=(), dtype=tf.resource, name=None)\n",
      "  2699895975824: TensorSpec(shape=(), dtype=tf.resource, name=None)\n",
      "  2699895978128: TensorSpec(shape=(), dtype=tf.resource, name=None)\n",
      "  2699895977552: TensorSpec(shape=(), dtype=tf.resource, name=None)\n",
      "  2699895976784: TensorSpec(shape=(), dtype=tf.resource, name=None)\n",
      "  2699895973712: TensorSpec(shape=(), dtype=tf.resource, name=None)\n",
      "  2699895977744: TensorSpec(shape=(), dtype=tf.resource, name=None)\n",
      "  2699895979664: TensorSpec(shape=(), dtype=tf.resource, name=None)\n",
      "  2699895977936: TensorSpec(shape=(), dtype=tf.resource, name=None)\n",
      "  2699895979088: TensorSpec(shape=(), dtype=tf.resource, name=None)\n",
      "  2699947672208: TensorSpec(shape=(), dtype=tf.resource, name=None)\n",
      "  2699947673168: TensorSpec(shape=(), dtype=tf.resource, name=None)\n",
      "  2699947672592: TensorSpec(shape=(), dtype=tf.resource, name=None)\n",
      "  2699947671824: TensorSpec(shape=(), dtype=tf.resource, name=None)\n",
      "  2699947671632: TensorSpec(shape=(), dtype=tf.resource, name=None)\n",
      "  2699947672784: TensorSpec(shape=(), dtype=tf.resource, name=None)\n",
      "  2699947675088: TensorSpec(shape=(), dtype=tf.resource, name=None)\n",
      "  2699947674512: TensorSpec(shape=(), dtype=tf.resource, name=None)\n",
      "  2699947673744: TensorSpec(shape=(), dtype=tf.resource, name=None)\n",
      "  2699947672400: TensorSpec(shape=(), dtype=tf.resource, name=None)\n",
      "  2699947674704: TensorSpec(shape=(), dtype=tf.resource, name=None)\n",
      "  2699947677008: TensorSpec(shape=(), dtype=tf.resource, name=None)\n",
      "  2699947676432: TensorSpec(shape=(), dtype=tf.resource, name=None)\n",
      "  2699947675664: TensorSpec(shape=(), dtype=tf.resource, name=None)\n",
      "  2699947674128: TensorSpec(shape=(), dtype=tf.resource, name=None)\n",
      "  2699947676624: TensorSpec(shape=(), dtype=tf.resource, name=None)\n",
      "  2699947678928: TensorSpec(shape=(), dtype=tf.resource, name=None)\n",
      "  2699947676048: TensorSpec(shape=(), dtype=tf.resource, name=None)\n",
      "  2699947679696: TensorSpec(shape=(), dtype=tf.resource, name=None)\n",
      "  2699947678544: TensorSpec(shape=(), dtype=tf.resource, name=None)\n",
      "  2699947680464: TensorSpec(shape=(), dtype=tf.resource, name=None)\n",
      "  2699947679504: TensorSpec(shape=(), dtype=tf.resource, name=None)\n",
      "  2699947677584: TensorSpec(shape=(), dtype=tf.resource, name=None)\n",
      "  2699947679312: TensorSpec(shape=(), dtype=tf.resource, name=None)\n",
      "  2699947680080: TensorSpec(shape=(), dtype=tf.resource, name=None)\n",
      "  2699947682768: TensorSpec(shape=(), dtype=tf.resource, name=None)\n",
      "  2699947682192: TensorSpec(shape=(), dtype=tf.resource, name=None)\n",
      "  2699947681808: TensorSpec(shape=(), dtype=tf.resource, name=None)\n",
      "  2699947682000: TensorSpec(shape=(), dtype=tf.resource, name=None)\n",
      "  2699947682384: TensorSpec(shape=(), dtype=tf.resource, name=None)\n",
      "  2699947684688: TensorSpec(shape=(), dtype=tf.resource, name=None)\n",
      "  2699947684112: TensorSpec(shape=(), dtype=tf.resource, name=None)\n",
      "  2699947683344: TensorSpec(shape=(), dtype=tf.resource, name=None)\n",
      "  2699947680272: TensorSpec(shape=(), dtype=tf.resource, name=None)\n",
      "  2699947684304: TensorSpec(shape=(), dtype=tf.resource, name=None)\n",
      "  2699947686608: TensorSpec(shape=(), dtype=tf.resource, name=None)\n",
      "  2699947683728: TensorSpec(shape=(), dtype=tf.resource, name=None)\n",
      "  2699947687376: TensorSpec(shape=(), dtype=tf.resource, name=None)\n",
      "  2699947686224: TensorSpec(shape=(), dtype=tf.resource, name=None)\n",
      "  2699947687760: TensorSpec(shape=(), dtype=tf.resource, name=None)\n",
      "  2699948098192: TensorSpec(shape=(), dtype=tf.resource, name=None)\n",
      "  2699948097808: TensorSpec(shape=(), dtype=tf.resource, name=None)\n",
      "  2699947685648: TensorSpec(shape=(), dtype=tf.resource, name=None)\n",
      "  2699947686992: TensorSpec(shape=(), dtype=tf.resource, name=None)\n",
      "  2699948100112: TensorSpec(shape=(), dtype=tf.resource, name=None)\n",
      "  2699948099536: TensorSpec(shape=(), dtype=tf.resource, name=None)\n",
      "  2699948099152: TensorSpec(shape=(), dtype=tf.resource, name=None)\n",
      "  2699948099344: TensorSpec(shape=(), dtype=tf.resource, name=None)\n",
      "  2699948099728: TensorSpec(shape=(), dtype=tf.resource, name=None)\n",
      "  2699948102032: TensorSpec(shape=(), dtype=tf.resource, name=None)\n",
      "  2699948101456: TensorSpec(shape=(), dtype=tf.resource, name=None)\n",
      "  2699948100688: TensorSpec(shape=(), dtype=tf.resource, name=None)\n",
      "  2699948097616: TensorSpec(shape=(), dtype=tf.resource, name=None)\n",
      "  2699948101648: TensorSpec(shape=(), dtype=tf.resource, name=None)\n",
      "  2699948103952: TensorSpec(shape=(), dtype=tf.resource, name=None)\n",
      "  2699948101072: TensorSpec(shape=(), dtype=tf.resource, name=None)\n",
      "  2699948104720: TensorSpec(shape=(), dtype=tf.resource, name=None)\n",
      "  2699948103568: TensorSpec(shape=(), dtype=tf.resource, name=None)\n",
      "  2699948105488: TensorSpec(shape=(), dtype=tf.resource, name=None)\n",
      "  2699948104528: TensorSpec(shape=(), dtype=tf.resource, name=None)\n",
      "  2699948102608: TensorSpec(shape=(), dtype=tf.resource, name=None)\n",
      "  2699948104336: TensorSpec(shape=(), dtype=tf.resource, name=None)\n",
      "  2699948105104: TensorSpec(shape=(), dtype=tf.resource, name=None)\n",
      "  2699948107792: TensorSpec(shape=(), dtype=tf.resource, name=None)\n",
      "  2699948107216: TensorSpec(shape=(), dtype=tf.resource, name=None)\n",
      "  2699948106832: TensorSpec(shape=(), dtype=tf.resource, name=None)\n",
      "  2699948107024: TensorSpec(shape=(), dtype=tf.resource, name=None)\n",
      "  2699948107408: TensorSpec(shape=(), dtype=tf.resource, name=None)\n",
      "  2699948109712: TensorSpec(shape=(), dtype=tf.resource, name=None)\n",
      "  2699948109136: TensorSpec(shape=(), dtype=tf.resource, name=None)\n",
      "  2699948108368: TensorSpec(shape=(), dtype=tf.resource, name=None)\n",
      "  2699948105296: TensorSpec(shape=(), dtype=tf.resource, name=None)\n",
      "  2699948109328: TensorSpec(shape=(), dtype=tf.resource, name=None)\n",
      "  2699948111632: TensorSpec(shape=(), dtype=tf.resource, name=None)\n",
      "  2699948108752: TensorSpec(shape=(), dtype=tf.resource, name=None)\n",
      "  2699948112400: TensorSpec(shape=(), dtype=tf.resource, name=None)\n",
      "  2699948111248: TensorSpec(shape=(), dtype=tf.resource, name=None)\n",
      "  2699948113168: TensorSpec(shape=(), dtype=tf.resource, name=None)\n",
      "  2699948112208: TensorSpec(shape=(), dtype=tf.resource, name=None)\n",
      "  2699948110672: TensorSpec(shape=(), dtype=tf.resource, name=None)\n",
      "  2699948112016: TensorSpec(shape=(), dtype=tf.resource, name=None)\n",
      "  2699948112784: TensorSpec(shape=(), dtype=tf.resource, name=None)\n",
      "  2699948523792: TensorSpec(shape=(), dtype=tf.resource, name=None)\n",
      "  2699948524368: TensorSpec(shape=(), dtype=tf.resource, name=None)\n",
      "  2699948524944: TensorSpec(shape=(), dtype=tf.resource, name=None)\n",
      "  2699948524176: TensorSpec(shape=(), dtype=tf.resource, name=None)\n",
      "  2699948524752: TensorSpec(shape=(), dtype=tf.resource, name=None)\n",
      "  2699948526672: TensorSpec(shape=(), dtype=tf.resource, name=None)\n",
      "  2699948526096: TensorSpec(shape=(), dtype=tf.resource, name=None)\n",
      "  2699948525328: TensorSpec(shape=(), dtype=tf.resource, name=None)\n",
      "  2699948523600: TensorSpec(shape=(), dtype=tf.resource, name=None)\n",
      "  2699948526288: TensorSpec(shape=(), dtype=tf.resource, name=None)\n",
      "  2699948528592: TensorSpec(shape=(), dtype=tf.resource, name=None)\n",
      "  2699948525712: TensorSpec(shape=(), dtype=tf.resource, name=None)\n",
      "  2699948529360: TensorSpec(shape=(), dtype=tf.resource, name=None)\n",
      "  2699948528208: TensorSpec(shape=(), dtype=tf.resource, name=None)\n",
      "  2699948530128: TensorSpec(shape=(), dtype=tf.resource, name=None)\n",
      "  2699948529168: TensorSpec(shape=(), dtype=tf.resource, name=None)\n",
      "  2699948527248: TensorSpec(shape=(), dtype=tf.resource, name=None)\n",
      "  2699948528976: TensorSpec(shape=(), dtype=tf.resource, name=None)\n",
      "  2699948529744: TensorSpec(shape=(), dtype=tf.resource, name=None)\n",
      "  2699948532432: TensorSpec(shape=(), dtype=tf.resource, name=None)\n",
      "  2699948531856: TensorSpec(shape=(), dtype=tf.resource, name=None)\n",
      "  2699948531472: TensorSpec(shape=(), dtype=tf.resource, name=None)\n",
      "  2699948531664: TensorSpec(shape=(), dtype=tf.resource, name=None)\n",
      "  2699948532048: TensorSpec(shape=(), dtype=tf.resource, name=None)\n",
      "  2699948534352: TensorSpec(shape=(), dtype=tf.resource, name=None)\n",
      "  2699948533776: TensorSpec(shape=(), dtype=tf.resource, name=None)\n",
      "  2699948533008: TensorSpec(shape=(), dtype=tf.resource, name=None)\n",
      "  2699948529936: TensorSpec(shape=(), dtype=tf.resource, name=None)\n",
      "  2699948533968: TensorSpec(shape=(), dtype=tf.resource, name=None)\n",
      "  2699948536272: TensorSpec(shape=(), dtype=tf.resource, name=None)\n",
      "  2699948533392: TensorSpec(shape=(), dtype=tf.resource, name=None)\n",
      "  2699948537040: TensorSpec(shape=(), dtype=tf.resource, name=None)\n",
      "  2699948535888: TensorSpec(shape=(), dtype=tf.resource, name=None)\n",
      "  2699948537808: TensorSpec(shape=(), dtype=tf.resource, name=None)\n",
      "  2699948536848: TensorSpec(shape=(), dtype=tf.resource, name=None)\n",
      "  2699948534928: TensorSpec(shape=(), dtype=tf.resource, name=None)\n",
      "  2699948536656: TensorSpec(shape=(), dtype=tf.resource, name=None)\n",
      "  2699948537424: TensorSpec(shape=(), dtype=tf.resource, name=None)\n",
      "  2699948539728: TensorSpec(shape=(), dtype=tf.resource, name=None)\n",
      "  2699948949776: TensorSpec(shape=(), dtype=tf.resource, name=None)\n",
      "  2699948949584: TensorSpec(shape=(), dtype=tf.resource, name=None)\n",
      "  2699948537616: TensorSpec(shape=(), dtype=tf.resource, name=None)\n",
      "  2699948539344: TensorSpec(shape=(), dtype=tf.resource, name=None)\n",
      "  2699948951696: TensorSpec(shape=(), dtype=tf.resource, name=None)\n",
      "  2699948951120: TensorSpec(shape=(), dtype=tf.resource, name=None)\n",
      "  2699948950352: TensorSpec(shape=(), dtype=tf.resource, name=None)\n",
      "  2699948949968: TensorSpec(shape=(), dtype=tf.resource, name=None)\n",
      "  2699948951312: TensorSpec(shape=(), dtype=tf.resource, name=None)\n",
      "  2699948953616: TensorSpec(shape=(), dtype=tf.resource, name=None)\n",
      "  2699948950736: TensorSpec(shape=(), dtype=tf.resource, name=None)\n",
      "  2699948954384: TensorSpec(shape=(), dtype=tf.resource, name=None)\n",
      "  2699948953232: TensorSpec(shape=(), dtype=tf.resource, name=None)\n",
      "  2699948955152: TensorSpec(shape=(), dtype=tf.resource, name=None)\n",
      "  2699948954192: TensorSpec(shape=(), dtype=tf.resource, name=None)\n",
      "  2699948952272: TensorSpec(shape=(), dtype=tf.resource, name=None)\n",
      "  2699948954000: TensorSpec(shape=(), dtype=tf.resource, name=None)\n",
      "  2699948954768: TensorSpec(shape=(), dtype=tf.resource, name=None)\n",
      "  2699948957456: TensorSpec(shape=(), dtype=tf.resource, name=None)\n",
      "  2699948956880: TensorSpec(shape=(), dtype=tf.resource, name=None)\n",
      "  2699948956496: TensorSpec(shape=(), dtype=tf.resource, name=None)\n",
      "  2699948956688: TensorSpec(shape=(), dtype=tf.resource, name=None)\n",
      "  2699948957072: TensorSpec(shape=(), dtype=tf.resource, name=None)\n",
      "  2699948959376: TensorSpec(shape=(), dtype=tf.resource, name=None)\n",
      "  2699948958800: TensorSpec(shape=(), dtype=tf.resource, name=None)\n",
      "  2699948958032: TensorSpec(shape=(), dtype=tf.resource, name=None)\n",
      "  2699948954960: TensorSpec(shape=(), dtype=tf.resource, name=None)\n",
      "  2699948958992: TensorSpec(shape=(), dtype=tf.resource, name=None)\n",
      "  2699948961296: TensorSpec(shape=(), dtype=tf.resource, name=None)\n",
      "  2699948958416: TensorSpec(shape=(), dtype=tf.resource, name=None)\n",
      "  2699948962064: TensorSpec(shape=(), dtype=tf.resource, name=None)\n",
      "  2699948960912: TensorSpec(shape=(), dtype=tf.resource, name=None)\n",
      "  2699948962832: TensorSpec(shape=(), dtype=tf.resource, name=None)\n",
      "  2699948961872: TensorSpec(shape=(), dtype=tf.resource, name=None)\n",
      "  2699948959952: TensorSpec(shape=(), dtype=tf.resource, name=None)\n",
      "  2699948961680: TensorSpec(shape=(), dtype=tf.resource, name=None)\n",
      "  2699948962448: TensorSpec(shape=(), dtype=tf.resource, name=None)\n",
      "  2699948964752: TensorSpec(shape=(), dtype=tf.resource, name=None)\n",
      "  2699948964176: TensorSpec(shape=(), dtype=tf.resource, name=None)\n",
      "  2699948963408: TensorSpec(shape=(), dtype=tf.resource, name=None)\n",
      "  2699948960336: TensorSpec(shape=(), dtype=tf.resource, name=None)\n",
      "  2699948964368: TensorSpec(shape=(), dtype=tf.resource, name=None)\n",
      "  2699948964560: TensorSpec(shape=(), dtype=tf.resource, name=None)\n",
      "  2699949375952: TensorSpec(shape=(), dtype=tf.resource, name=None)\n",
      "  2699949375760: TensorSpec(shape=(), dtype=tf.resource, name=None)\n",
      "  2699949376144: TensorSpec(shape=(), dtype=tf.resource, name=None)\n",
      "  2699949375568: TensorSpec(shape=(), dtype=tf.resource, name=None)\n",
      "  2699949378256: TensorSpec(shape=(), dtype=tf.resource, name=None)\n",
      "  2699949376336: TensorSpec(shape=(), dtype=tf.resource, name=None)\n",
      "  2699949379024: TensorSpec(shape=(), dtype=tf.resource, name=None)\n",
      "  2699949377872: TensorSpec(shape=(), dtype=tf.resource, name=None)\n",
      "  2699949379792: TensorSpec(shape=(), dtype=tf.resource, name=None)\n",
      "  2699949378832: TensorSpec(shape=(), dtype=tf.resource, name=None)\n",
      "  2699949376912: TensorSpec(shape=(), dtype=tf.resource, name=None)\n",
      "  2699949378640: TensorSpec(shape=(), dtype=tf.resource, name=None)\n",
      "  2699949379408: TensorSpec(shape=(), dtype=tf.resource, name=None)\n",
      "  2699949382096: TensorSpec(shape=(), dtype=tf.resource, name=None)\n",
      "  2699949381520: TensorSpec(shape=(), dtype=tf.resource, name=None)\n",
      "  2699949381136: TensorSpec(shape=(), dtype=tf.resource, name=None)\n",
      "  2699949381328: TensorSpec(shape=(), dtype=tf.resource, name=None)\n",
      "  2699949381712: TensorSpec(shape=(), dtype=tf.resource, name=None)\n",
      "  2699949384016: TensorSpec(shape=(), dtype=tf.resource, name=None)\n",
      "  2699949383440: TensorSpec(shape=(), dtype=tf.resource, name=None)\n",
      "  2699949382672: TensorSpec(shape=(), dtype=tf.resource, name=None)\n",
      "  2699949379600: TensorSpec(shape=(), dtype=tf.resource, name=None)\n",
      "  2699949383632: TensorSpec(shape=(), dtype=tf.resource, name=None)\n",
      "  2699949385936: TensorSpec(shape=(), dtype=tf.resource, name=None)\n",
      "  2699949383056: TensorSpec(shape=(), dtype=tf.resource, name=None)\n",
      "  2699949386704: TensorSpec(shape=(), dtype=tf.resource, name=None)\n",
      "  2699949385552: TensorSpec(shape=(), dtype=tf.resource, name=None)\n",
      "  2699949387472: TensorSpec(shape=(), dtype=tf.resource, name=None)\n",
      "  2699949386512: TensorSpec(shape=(), dtype=tf.resource, name=None)\n",
      "  2699949384592: TensorSpec(shape=(), dtype=tf.resource, name=None)\n",
      "  2699949386320: TensorSpec(shape=(), dtype=tf.resource, name=None)\n",
      "  2699949387088: TensorSpec(shape=(), dtype=tf.resource, name=None)\n",
      "  2699949389776: TensorSpec(shape=(), dtype=tf.resource, name=None)\n",
      "  2699949389200: TensorSpec(shape=(), dtype=tf.resource, name=None)\n",
      "  2699949388816: TensorSpec(shape=(), dtype=tf.resource, name=None)\n",
      "  2699949389008: TensorSpec(shape=(), dtype=tf.resource, name=None)\n",
      "  2699949389392: TensorSpec(shape=(), dtype=tf.resource, name=None)\n",
      "  2699949391696: TensorSpec(shape=(), dtype=tf.resource, name=None)\n",
      "  2699949387280: TensorSpec(shape=(), dtype=tf.resource, name=None)\n",
      "  2699949867280: TensorSpec(shape=(), dtype=tf.resource, name=None)\n",
      "  2699949390736: TensorSpec(shape=(), dtype=tf.resource, name=None)\n",
      "  2699949391312: TensorSpec(shape=(), dtype=tf.resource, name=None)\n",
      "  2699949868816: TensorSpec(shape=(), dtype=tf.resource, name=None)\n",
      "  2699949867472: TensorSpec(shape=(), dtype=tf.resource, name=None)\n",
      "  2699949869584: TensorSpec(shape=(), dtype=tf.resource, name=None)\n",
      "  2699949868432: TensorSpec(shape=(), dtype=tf.resource, name=None)\n",
      "  2699949870352: TensorSpec(shape=(), dtype=tf.resource, name=None)\n",
      "  2699949869392: TensorSpec(shape=(), dtype=tf.resource, name=None)\n",
      "  2699949867664: TensorSpec(shape=(), dtype=tf.resource, name=None)\n",
      "  2699949869200: TensorSpec(shape=(), dtype=tf.resource, name=None)\n",
      "  2699949869968: TensorSpec(shape=(), dtype=tf.resource, name=None)\n",
      "  2699949872656: TensorSpec(shape=(), dtype=tf.resource, name=None)\n",
      "  2699949872080: TensorSpec(shape=(), dtype=tf.resource, name=None)\n",
      "  2699949871696: TensorSpec(shape=(), dtype=tf.resource, name=None)\n",
      "  2699949871888: TensorSpec(shape=(), dtype=tf.resource, name=None)\n",
      "  2699949872272: TensorSpec(shape=(), dtype=tf.resource, name=None)\n",
      "  2699949874576: TensorSpec(shape=(), dtype=tf.resource, name=None)\n",
      "  2699949874000: TensorSpec(shape=(), dtype=tf.resource, name=None)\n",
      "  2699949873232: TensorSpec(shape=(), dtype=tf.resource, name=None)\n",
      "  2699949870160: TensorSpec(shape=(), dtype=tf.resource, name=None)\n",
      "  2699949874192: TensorSpec(shape=(), dtype=tf.resource, name=None)\n",
      "  2699949876496: TensorSpec(shape=(), dtype=tf.resource, name=None)\n",
      "  2699949873616: TensorSpec(shape=(), dtype=tf.resource, name=None)\n",
      "  2699949877264: TensorSpec(shape=(), dtype=tf.resource, name=None)\n",
      "  2699949876112: TensorSpec(shape=(), dtype=tf.resource, name=None)\n",
      "  2699949878032: TensorSpec(shape=(), dtype=tf.resource, name=None)\n",
      "  2699949877072: TensorSpec(shape=(), dtype=tf.resource, name=None)\n",
      "  2699949875152: TensorSpec(shape=(), dtype=tf.resource, name=None)\n",
      "  2699949876880: TensorSpec(shape=(), dtype=tf.resource, name=None)\n",
      "  2699949877648: TensorSpec(shape=(), dtype=tf.resource, name=None)\n",
      "  2699949880336: TensorSpec(shape=(), dtype=tf.resource, name=None)\n",
      "  2699949879760: TensorSpec(shape=(), dtype=tf.resource, name=None)\n",
      "  2699949879376: TensorSpec(shape=(), dtype=tf.resource, name=None)\n",
      "  2699949879568: TensorSpec(shape=(), dtype=tf.resource, name=None)\n",
      "  2699949879952: TensorSpec(shape=(), dtype=tf.resource, name=None)\n",
      "  2699949882256: TensorSpec(shape=(), dtype=tf.resource, name=None)\n",
      "  2699949881680: TensorSpec(shape=(), dtype=tf.resource, name=None)\n",
      "  2699949880912: TensorSpec(shape=(), dtype=tf.resource, name=None)\n",
      "  2699949877840: TensorSpec(shape=(), dtype=tf.resource, name=None)\n",
      "  2699949881872: TensorSpec(shape=(), dtype=tf.resource, name=None)\n",
      "  2699949882064: TensorSpec(shape=(), dtype=tf.resource, name=None)\n",
      "  2699950342416: TensorSpec(shape=(), dtype=tf.resource, name=None)\n",
      "  2699950343760: TensorSpec(shape=(), dtype=tf.resource, name=None)\n",
      "  2699950343184: TensorSpec(shape=(), dtype=tf.resource, name=None)\n",
      "  2699950344528: TensorSpec(shape=(), dtype=tf.resource, name=None)\n",
      "  2699950343568: TensorSpec(shape=(), dtype=tf.resource, name=None)\n",
      "  2699950342992: TensorSpec(shape=(), dtype=tf.resource, name=None)\n",
      "  2699950343376: TensorSpec(shape=(), dtype=tf.resource, name=None)\n",
      "  2699950344144: TensorSpec(shape=(), dtype=tf.resource, name=None)\n",
      "  2699950346448: TensorSpec(shape=(), dtype=tf.resource, name=None)\n",
      "  2699950345872: TensorSpec(shape=(), dtype=tf.resource, name=None)\n",
      "  2699950345104: TensorSpec(shape=(), dtype=tf.resource, name=None)\n",
      "  2699950342224: TensorSpec(shape=(), dtype=tf.resource, name=None)\n",
      "  2699950346064: TensorSpec(shape=(), dtype=tf.resource, name=None)\n",
      "  2699950348368: TensorSpec(shape=(), dtype=tf.resource, name=None)\n",
      "  2699950347792: TensorSpec(shape=(), dtype=tf.resource, name=None)\n",
      "  2699950347024: TensorSpec(shape=(), dtype=tf.resource, name=None)\n",
      "  2699950345488: TensorSpec(shape=(), dtype=tf.resource, name=None)\n",
      "  2699950347984: TensorSpec(shape=(), dtype=tf.resource, name=None)\n",
      "  2699950350288: TensorSpec(shape=(), dtype=tf.resource, name=None)\n",
      "  2699950347408: TensorSpec(shape=(), dtype=tf.resource, name=None)\n",
      "  2699950351056: TensorSpec(shape=(), dtype=tf.resource, name=None)\n",
      "  2699950349904: TensorSpec(shape=(), dtype=tf.resource, name=None)\n",
      "  2699950351824: TensorSpec(shape=(), dtype=tf.resource, name=None)\n",
      "  2699950350864: TensorSpec(shape=(), dtype=tf.resource, name=None)\n",
      "  2699950348944: TensorSpec(shape=(), dtype=tf.resource, name=None)\n",
      "  2699950350672: TensorSpec(shape=(), dtype=tf.resource, name=None)\n",
      "  2699950351440: TensorSpec(shape=(), dtype=tf.resource, name=None)\n",
      "  2699950354128: TensorSpec(shape=(), dtype=tf.resource, name=None)\n",
      "  2699950353552: TensorSpec(shape=(), dtype=tf.resource, name=None)\n",
      "  2699950353168: TensorSpec(shape=(), dtype=tf.resource, name=None)\n",
      "  2699950353360: TensorSpec(shape=(), dtype=tf.resource, name=None)\n",
      "  2699950353744: TensorSpec(shape=(), dtype=tf.resource, name=None)\n",
      "  2699950353936: TensorSpec(shape=(), dtype=tf.resource, name=None)\n",
      "  2699950356048: TensorSpec(shape=(), dtype=tf.resource, name=None)\n"
     ]
    }
   ],
   "source": [
    "# Convert it to TFLite Model\n",
    "converter = tf.lite.TFLiteConverter.from_keras_model(model)\n",
    "tflite_model = converter.convert()\n",
    "\n",
    "# Save the model\n",
    "with open('gender_recognizer.tflite', 'wb') as f:\n",
    "    f.write(tflite_model)\n"
   ]
  },
  {
   "cell_type": "code",
   "execution_count": null,
   "metadata": {},
   "outputs": [],
   "source": []
  }
 ],
 "metadata": {
  "kernelspec": {
   "display_name": "Python 3",
   "language": "python",
   "name": "python3"
  },
  "language_info": {
   "codemirror_mode": {
    "name": "ipython",
    "version": 3
   },
   "file_extension": ".py",
   "mimetype": "text/x-python",
   "name": "python",
   "nbconvert_exporter": "python",
   "pygments_lexer": "ipython3",
   "version": "3.11.3"
  }
 },
 "nbformat": 4,
 "nbformat_minor": 4
}
